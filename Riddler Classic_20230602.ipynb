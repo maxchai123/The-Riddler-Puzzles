{
 "cells": [
  {
   "attachments": {},
   "cell_type": "markdown",
   "metadata": {},
   "source": [
    "The Riddler Classic - 6/2/2023"
   ]
  },
  {
   "attachments": {},
   "cell_type": "markdown",
   "metadata": {},
   "source": [
    "#### Question:\n",
    "\n",
    "In a game show, there are three identical doors arranged in a row from left to right. The host of the show, “Monty,” chooses one of the doors and places a prize of $\\$100$ dollars behind it. There is no prize behind the other two doors. You are not present when Monty chooses the door and places the money behind it, so you cannot say for certain which door the prize is behind.\n",
    "\n",
    "You are then brought to the stage and must select one of the three doors to open. If the prize money is behind it, then you win! But if you guess incorrectly, all is not lost. You can pay $\\$80$ to pick a second door. Before you make that second selection, however, Monty will give you a hint, telling you whether the prize is behind a door that’s to the left or to the right of your first choice. (Note that this hint is only helpful when you previously selected the middle door.) If the prize isn’t behind that second door, you can pay another $\\$80$ to try a third time.\n",
    "\n",
    "Assume that both you and Monty play with optimal strategies — you to maximize your expected net earnings (prize winnings minus payments for hints), and Monty to minimize the same. How much net earnings can you expect to make on average?"
   ]
  },
  {
   "attachments": {},
   "cell_type": "markdown",
   "metadata": {},
   "source": [
    "##### Strategy #1 - Pick The Middle Door\n",
    "\n",
    "After picking the middle door, there's a $\\frac{1}{3}$ chance that the money is behind that door and you'll immediately win $\\$100$. \n",
    "\n",
    "However, there's a $\\frac{2}{3}$ chance that the money is behind one of the side doors. In this case, Monty's hint will tell you where the prize is - the payout is $\\$20$ because it costs $\\$80$ to actually open the door and receive the $\\$100$.\n",
    "\n",
    "Therefore, the $EV = \\frac{1}{3} \\times 100 + \\frac{2}{3} \\times 20 = \\boxed{\\frac{140}{3}}$\n"
   ]
  },
  {
   "attachments": {},
   "cell_type": "markdown",
   "metadata": {},
   "source": [
    "##### Strategy #2 - Pick A Side Door\n",
    "\n",
    "After picking a side door, there's also a $\\frac{1}{3}$ chance that we are automatically correct and win the $\\$100$.\n",
    "\n",
    "However, there's a $\\frac{2}{3}$ chance that the prize is not in the initial door we picked. Monty's hint doesn't help us and as a result we'll have to randomly choose one of the remaining doors. We have a $\\frac{1}{2}$ chance that our second pick will win us the prize. \n",
    "\n",
    "Therefore, the $EV = \\frac{1}{3} \\times 100 + \\frac{2}{3} \\times \\frac{1}{2} \\times 20 = \\boxed{40}$"
   ]
  },
  {
   "attachments": {},
   "cell_type": "markdown",
   "metadata": {},
   "source": [
    "We see that the first strategy has a higher $EV$. Both strategies have a scenario where the initial pick is correct; however, the difference comes when a second pick is used and the first strategy's hint provides much more information."
   ]
  },
  {
   "attachments": {},
   "cell_type": "markdown",
   "metadata": {},
   "source": []
  }
 ],
 "metadata": {
  "language_info": {
   "name": "python"
  },
  "orig_nbformat": 4
 },
 "nbformat": 4,
 "nbformat_minor": 2
}
